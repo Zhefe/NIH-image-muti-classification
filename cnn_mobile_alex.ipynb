{
 "cells": [
  {
   "cell_type": "code",
   "execution_count": 1,
   "id": "ab606617",
   "metadata": {
    "_cell_guid": "b1076dfc-b9ad-4769-8c92-a6c4dae69d19",
    "_uuid": "8f2839f25d086af736a60e9eeb907d3b93b6e0e5",
    "execution": {
     "iopub.execute_input": "2024-03-15T11:20:10.741078Z",
     "iopub.status.busy": "2024-03-15T11:20:10.740308Z",
     "iopub.status.idle": "2024-03-15T11:20:21.475372Z",
     "shell.execute_reply": "2024-03-15T11:20:21.474306Z"
    },
    "papermill": {
     "duration": 10.747964,
     "end_time": "2024-03-15T11:20:21.478128",
     "exception": false,
     "start_time": "2024-03-15T11:20:10.730164",
     "status": "completed"
    },
    "tags": []
   },
   "outputs": [],
   "source": [
    "import numpy as np # linear algebra\n",
    "import pandas as pd # data processing, CSV file I/O (e.g. pd.read_csv)\n",
    "import os\n",
    "from glob import glob\n",
    "%matplotlib inline\n",
    "import matplotlib.pyplot as plt\n",
    "from sklearn.preprocessing import MultiLabelBinarizer\n",
    "from torchvision.io import read_image\n",
    "from torch.utils.data import Dataset, DataLoader\n",
    "from torchvision import transforms\n"
   ]
  },
  {
   "cell_type": "code",
   "execution_count": 2,
   "id": "040ae18d",
   "metadata": {
    "execution": {
     "iopub.execute_input": "2024-03-15T11:20:21.497592Z",
     "iopub.status.busy": "2024-03-15T11:20:21.496471Z",
     "iopub.status.idle": "2024-03-15T11:22:46.545434Z",
     "shell.execute_reply": "2024-03-15T11:22:46.543826Z"
    },
    "papermill": {
     "duration": 145.068837,
     "end_time": "2024-03-15T11:22:46.556186",
     "exception": false,
     "start_time": "2024-03-15T11:20:21.487349",
     "status": "completed"
    },
    "tags": []
   },
   "outputs": [
    {
     "name": "stdout",
     "output_type": "stream",
     "text": [
      "/kaggle/input/data/images_003/images/00006199_010.png\n"
     ]
    }
   ],
   "source": [
    "root_folder = '/kaggle/input/data'\n",
    "file_paths_dict = {}\n",
    "for root, dirs, files in os.walk(root_folder):\n",
    "    if root != root_folder:\n",
    "        for f in files:\n",
    "            file_name = f\n",
    "            file_paths_dict[file_name] = os.path.join(root, f)\n",
    "            \n",
    "print(file_paths_dict[\"00006199_010.png\"])"
   ]
  },
  {
   "cell_type": "code",
   "execution_count": 3,
   "id": "37c644ac",
   "metadata": {
    "execution": {
     "iopub.execute_input": "2024-03-15T11:22:46.573373Z",
     "iopub.status.busy": "2024-03-15T11:22:46.572965Z",
     "iopub.status.idle": "2024-03-15T11:22:47.158360Z",
     "shell.execute_reply": "2024-03-15T11:22:47.156372Z"
    },
    "papermill": {
     "duration": 0.59728,
     "end_time": "2024-03-15T11:22:47.161413",
     "exception": false,
     "start_time": "2024-03-15T11:22:46.564133",
     "status": "completed"
    },
    "tags": []
   },
   "outputs": [
    {
     "data": {
      "text/html": [
       "<div>\n",
       "<style scoped>\n",
       "    .dataframe tbody tr th:only-of-type {\n",
       "        vertical-align: middle;\n",
       "    }\n",
       "\n",
       "    .dataframe tbody tr th {\n",
       "        vertical-align: top;\n",
       "    }\n",
       "\n",
       "    .dataframe thead th {\n",
       "        text-align: right;\n",
       "    }\n",
       "</style>\n",
       "<table border=\"1\" class=\"dataframe\">\n",
       "  <thead>\n",
       "    <tr style=\"text-align: right;\">\n",
       "      <th></th>\n",
       "      <th>Image Index</th>\n",
       "      <th>Finding Labels</th>\n",
       "      <th>Follow-up #</th>\n",
       "      <th>Patient ID</th>\n",
       "      <th>Patient Age</th>\n",
       "      <th>Patient Gender</th>\n",
       "      <th>View Position</th>\n",
       "      <th>OriginalImage[Width</th>\n",
       "      <th>Height]</th>\n",
       "      <th>OriginalImagePixelSpacing[x</th>\n",
       "      <th>y]</th>\n",
       "      <th>Unnamed: 11</th>\n",
       "      <th>path</th>\n",
       "    </tr>\n",
       "  </thead>\n",
       "  <tbody>\n",
       "    <tr>\n",
       "      <th>61275</th>\n",
       "      <td>00015113_007.png</td>\n",
       "      <td>No Finding</td>\n",
       "      <td>7</td>\n",
       "      <td>15113</td>\n",
       "      <td>26</td>\n",
       "      <td>M</td>\n",
       "      <td>AP</td>\n",
       "      <td>2500</td>\n",
       "      <td>2048</td>\n",
       "      <td>0.168</td>\n",
       "      <td>0.168</td>\n",
       "      <td>NaN</td>\n",
       "      <td>/kaggle/input/data/images_007/images/00015113_...</td>\n",
       "    </tr>\n",
       "    <tr>\n",
       "      <th>28851</th>\n",
       "      <td>00007531_000.png</td>\n",
       "      <td>No Finding</td>\n",
       "      <td>0</td>\n",
       "      <td>7531</td>\n",
       "      <td>42</td>\n",
       "      <td>F</td>\n",
       "      <td>PA</td>\n",
       "      <td>2048</td>\n",
       "      <td>2500</td>\n",
       "      <td>0.168</td>\n",
       "      <td>0.168</td>\n",
       "      <td>NaN</td>\n",
       "      <td>/kaggle/input/data/images_004/images/00007531_...</td>\n",
       "    </tr>\n",
       "    <tr>\n",
       "      <th>58416</th>\n",
       "      <td>00014443_000.png</td>\n",
       "      <td>Infiltration|Mass|Nodule</td>\n",
       "      <td>0</td>\n",
       "      <td>14443</td>\n",
       "      <td>64</td>\n",
       "      <td>F</td>\n",
       "      <td>PA</td>\n",
       "      <td>2838</td>\n",
       "      <td>2809</td>\n",
       "      <td>0.143</td>\n",
       "      <td>0.143</td>\n",
       "      <td>NaN</td>\n",
       "      <td>/kaggle/input/data/images_007/images/00014443_...</td>\n",
       "    </tr>\n",
       "  </tbody>\n",
       "</table>\n",
       "</div>"
      ],
      "text/plain": [
       "            Image Index            Finding Labels  Follow-up #  Patient ID  \\\n",
       "61275  00015113_007.png                No Finding            7       15113   \n",
       "28851  00007531_000.png                No Finding            0        7531   \n",
       "58416  00014443_000.png  Infiltration|Mass|Nodule            0       14443   \n",
       "\n",
       "       Patient Age Patient Gender View Position  OriginalImage[Width  Height]  \\\n",
       "61275           26              M            AP                 2500     2048   \n",
       "28851           42              F            PA                 2048     2500   \n",
       "58416           64              F            PA                 2838     2809   \n",
       "\n",
       "       OriginalImagePixelSpacing[x     y]  Unnamed: 11  \\\n",
       "61275                        0.168  0.168          NaN   \n",
       "28851                        0.168  0.168          NaN   \n",
       "58416                        0.143  0.143          NaN   \n",
       "\n",
       "                                                    path  \n",
       "61275  /kaggle/input/data/images_007/images/00015113_...  \n",
       "28851  /kaggle/input/data/images_004/images/00007531_...  \n",
       "58416  /kaggle/input/data/images_007/images/00014443_...  "
      ]
     },
     "execution_count": 3,
     "metadata": {},
     "output_type": "execute_result"
    }
   ],
   "source": [
    "all_df = pd.read_csv('/kaggle/input/data/Data_Entry_2017.csv')\n",
    "\n",
    "all_df['path'] = all_df['Image Index'].map(file_paths_dict.get)\n",
    "all_df['path'] = all_df['Image Index'].map(file_paths_dict.get)\n",
    "\n",
    "all_df.sample(3)"
   ]
  },
  {
   "cell_type": "code",
   "execution_count": 4,
   "id": "98a03105",
   "metadata": {
    "execution": {
     "iopub.execute_input": "2024-03-15T11:22:47.180559Z",
     "iopub.status.busy": "2024-03-15T11:22:47.179556Z",
     "iopub.status.idle": "2024-03-15T11:22:47.293687Z",
     "shell.execute_reply": "2024-03-15T11:22:47.292437Z"
    },
    "papermill": {
     "duration": 0.127149,
     "end_time": "2024-03-15T11:22:47.296386",
     "exception": false,
     "start_time": "2024-03-15T11:22:47.169237",
     "status": "completed"
    },
    "tags": []
   },
   "outputs": [
    {
     "data": {
      "text/html": [
       "<div>\n",
       "<style scoped>\n",
       "    .dataframe tbody tr th:only-of-type {\n",
       "        vertical-align: middle;\n",
       "    }\n",
       "\n",
       "    .dataframe tbody tr th {\n",
       "        vertical-align: top;\n",
       "    }\n",
       "\n",
       "    .dataframe thead th {\n",
       "        text-align: right;\n",
       "    }\n",
       "</style>\n",
       "<table border=\"1\" class=\"dataframe\">\n",
       "  <thead>\n",
       "    <tr style=\"text-align: right;\">\n",
       "      <th></th>\n",
       "      <th>Image Index</th>\n",
       "      <th>Finding Labels</th>\n",
       "      <th>Follow-up #</th>\n",
       "      <th>Patient ID</th>\n",
       "      <th>Patient Age</th>\n",
       "      <th>Patient Gender</th>\n",
       "      <th>View Position</th>\n",
       "      <th>OriginalImage[Width</th>\n",
       "      <th>Height]</th>\n",
       "      <th>OriginalImagePixelSpacing[x</th>\n",
       "      <th>y]</th>\n",
       "      <th>Unnamed: 11</th>\n",
       "      <th>path</th>\n",
       "    </tr>\n",
       "  </thead>\n",
       "  <tbody>\n",
       "    <tr>\n",
       "      <th>69734</th>\n",
       "      <td>00017183_001.png</td>\n",
       "      <td>0</td>\n",
       "      <td>1</td>\n",
       "      <td>17183</td>\n",
       "      <td>32</td>\n",
       "      <td>F</td>\n",
       "      <td>PA</td>\n",
       "      <td>2992</td>\n",
       "      <td>2853</td>\n",
       "      <td>0.143</td>\n",
       "      <td>0.143</td>\n",
       "      <td>NaN</td>\n",
       "      <td>/kaggle/input/data/images_008/images/00017183_...</td>\n",
       "    </tr>\n",
       "    <tr>\n",
       "      <th>62609</th>\n",
       "      <td>00015505_001.png</td>\n",
       "      <td>1</td>\n",
       "      <td>1</td>\n",
       "      <td>15505</td>\n",
       "      <td>27</td>\n",
       "      <td>M</td>\n",
       "      <td>PA</td>\n",
       "      <td>2928</td>\n",
       "      <td>2596</td>\n",
       "      <td>0.143</td>\n",
       "      <td>0.143</td>\n",
       "      <td>NaN</td>\n",
       "      <td>/kaggle/input/data/images_007/images/00015505_...</td>\n",
       "    </tr>\n",
       "    <tr>\n",
       "      <th>26742</th>\n",
       "      <td>00007001_001.png</td>\n",
       "      <td>0</td>\n",
       "      <td>1</td>\n",
       "      <td>7001</td>\n",
       "      <td>15</td>\n",
       "      <td>M</td>\n",
       "      <td>AP</td>\n",
       "      <td>2500</td>\n",
       "      <td>2048</td>\n",
       "      <td>0.171</td>\n",
       "      <td>0.171</td>\n",
       "      <td>NaN</td>\n",
       "      <td>/kaggle/input/data/images_004/images/00007001_...</td>\n",
       "    </tr>\n",
       "  </tbody>\n",
       "</table>\n",
       "</div>"
      ],
      "text/plain": [
       "            Image Index  Finding Labels  Follow-up #  Patient ID  Patient Age  \\\n",
       "69734  00017183_001.png               0            1       17183           32   \n",
       "62609  00015505_001.png               1            1       15505           27   \n",
       "26742  00007001_001.png               0            1        7001           15   \n",
       "\n",
       "      Patient Gender View Position  OriginalImage[Width  Height]  \\\n",
       "69734              F            PA                 2992     2853   \n",
       "62609              M            PA                 2928     2596   \n",
       "26742              M            AP                 2500     2048   \n",
       "\n",
       "       OriginalImagePixelSpacing[x     y]  Unnamed: 11  \\\n",
       "69734                        0.143  0.143          NaN   \n",
       "62609                        0.143  0.143          NaN   \n",
       "26742                        0.171  0.171          NaN   \n",
       "\n",
       "                                                    path  \n",
       "69734  /kaggle/input/data/images_008/images/00017183_...  \n",
       "62609  /kaggle/input/data/images_007/images/00015505_...  \n",
       "26742  /kaggle/input/data/images_004/images/00007001_...  "
      ]
     },
     "execution_count": 4,
     "metadata": {},
     "output_type": "execute_result"
    }
   ],
   "source": [
    "def convert_label(label):\n",
    "    if label == \"No Finding\":\n",
    "        return 0\n",
    "    else:\n",
    "        return 1\n",
    "\n",
    "all_df['Finding Labels'] = all_df['Finding Labels'].apply(convert_label)\n",
    "\n",
    "all_df.sample(3)"
   ]
  },
  {
   "cell_type": "code",
   "execution_count": 5,
   "id": "ba71195a",
   "metadata": {
    "execution": {
     "iopub.execute_input": "2024-03-15T11:22:47.315817Z",
     "iopub.status.busy": "2024-03-15T11:22:47.315419Z",
     "iopub.status.idle": "2024-03-15T11:22:47.353481Z",
     "shell.execute_reply": "2024-03-15T11:22:47.352336Z"
    },
    "papermill": {
     "duration": 0.050932,
     "end_time": "2024-03-15T11:22:47.355960",
     "exception": false,
     "start_time": "2024-03-15T11:22:47.305028",
     "status": "completed"
    },
    "tags": []
   },
   "outputs": [
    {
     "name": "stdout",
     "output_type": "stream",
     "text": [
      "Finding Labels\n",
      "0    2160\n",
      "1    1840\n",
      "Name: count, dtype: int64\n"
     ]
    },
    {
     "data": {
      "text/html": [
       "<div>\n",
       "<style scoped>\n",
       "    .dataframe tbody tr th:only-of-type {\n",
       "        vertical-align: middle;\n",
       "    }\n",
       "\n",
       "    .dataframe tbody tr th {\n",
       "        vertical-align: top;\n",
       "    }\n",
       "\n",
       "    .dataframe thead th {\n",
       "        text-align: right;\n",
       "    }\n",
       "</style>\n",
       "<table border=\"1\" class=\"dataframe\">\n",
       "  <thead>\n",
       "    <tr style=\"text-align: right;\">\n",
       "      <th></th>\n",
       "      <th>Image Index</th>\n",
       "      <th>Finding Labels</th>\n",
       "      <th>Follow-up #</th>\n",
       "      <th>Patient ID</th>\n",
       "      <th>Patient Age</th>\n",
       "      <th>Patient Gender</th>\n",
       "      <th>View Position</th>\n",
       "      <th>OriginalImage[Width</th>\n",
       "      <th>Height]</th>\n",
       "      <th>OriginalImagePixelSpacing[x</th>\n",
       "      <th>y]</th>\n",
       "      <th>Unnamed: 11</th>\n",
       "      <th>path</th>\n",
       "    </tr>\n",
       "  </thead>\n",
       "  <tbody>\n",
       "    <tr>\n",
       "      <th>0</th>\n",
       "      <td>00011746_002.png</td>\n",
       "      <td>0</td>\n",
       "      <td>2</td>\n",
       "      <td>11746</td>\n",
       "      <td>60</td>\n",
       "      <td>F</td>\n",
       "      <td>AP</td>\n",
       "      <td>2500</td>\n",
       "      <td>2048</td>\n",
       "      <td>0.168</td>\n",
       "      <td>0.168</td>\n",
       "      <td>NaN</td>\n",
       "      <td>/kaggle/input/data/images_006/images/00011746_...</td>\n",
       "    </tr>\n",
       "    <tr>\n",
       "      <th>1</th>\n",
       "      <td>00021786_004.png</td>\n",
       "      <td>0</td>\n",
       "      <td>4</td>\n",
       "      <td>21786</td>\n",
       "      <td>50</td>\n",
       "      <td>M</td>\n",
       "      <td>AP</td>\n",
       "      <td>3056</td>\n",
       "      <td>2544</td>\n",
       "      <td>0.139</td>\n",
       "      <td>0.139</td>\n",
       "      <td>NaN</td>\n",
       "      <td>/kaggle/input/data/images_010/images/00021786_...</td>\n",
       "    </tr>\n",
       "    <tr>\n",
       "      <th>2</th>\n",
       "      <td>00008342_020.png</td>\n",
       "      <td>1</td>\n",
       "      <td>20</td>\n",
       "      <td>8342</td>\n",
       "      <td>36</td>\n",
       "      <td>F</td>\n",
       "      <td>PA</td>\n",
       "      <td>2478</td>\n",
       "      <td>2991</td>\n",
       "      <td>0.143</td>\n",
       "      <td>0.143</td>\n",
       "      <td>NaN</td>\n",
       "      <td>/kaggle/input/data/images_004/images/00008342_...</td>\n",
       "    </tr>\n",
       "    <tr>\n",
       "      <th>3</th>\n",
       "      <td>00005372_018.png</td>\n",
       "      <td>1</td>\n",
       "      <td>18</td>\n",
       "      <td>5372</td>\n",
       "      <td>47</td>\n",
       "      <td>M</td>\n",
       "      <td>AP</td>\n",
       "      <td>2500</td>\n",
       "      <td>2048</td>\n",
       "      <td>0.171</td>\n",
       "      <td>0.171</td>\n",
       "      <td>NaN</td>\n",
       "      <td>/kaggle/input/data/images_003/images/00005372_...</td>\n",
       "    </tr>\n",
       "    <tr>\n",
       "      <th>4</th>\n",
       "      <td>00018640_000.png</td>\n",
       "      <td>1</td>\n",
       "      <td>0</td>\n",
       "      <td>18640</td>\n",
       "      <td>46</td>\n",
       "      <td>M</td>\n",
       "      <td>PA</td>\n",
       "      <td>2992</td>\n",
       "      <td>2991</td>\n",
       "      <td>0.143</td>\n",
       "      <td>0.143</td>\n",
       "      <td>NaN</td>\n",
       "      <td>/kaggle/input/data/images_009/images/00018640_...</td>\n",
       "    </tr>\n",
       "  </tbody>\n",
       "</table>\n",
       "</div>"
      ],
      "text/plain": [
       "        Image Index  Finding Labels  Follow-up #  Patient ID  Patient Age  \\\n",
       "0  00011746_002.png               0            2       11746           60   \n",
       "1  00021786_004.png               0            4       21786           50   \n",
       "2  00008342_020.png               1           20        8342           36   \n",
       "3  00005372_018.png               1           18        5372           47   \n",
       "4  00018640_000.png               1            0       18640           46   \n",
       "\n",
       "  Patient Gender View Position  OriginalImage[Width  Height]  \\\n",
       "0              F            AP                 2500     2048   \n",
       "1              M            AP                 3056     2544   \n",
       "2              F            PA                 2478     2991   \n",
       "3              M            AP                 2500     2048   \n",
       "4              M            PA                 2992     2991   \n",
       "\n",
       "   OriginalImagePixelSpacing[x     y]  Unnamed: 11  \\\n",
       "0                        0.168  0.168          NaN   \n",
       "1                        0.139  0.139          NaN   \n",
       "2                        0.143  0.143          NaN   \n",
       "3                        0.171  0.171          NaN   \n",
       "4                        0.143  0.143          NaN   \n",
       "\n",
       "                                                path  \n",
       "0  /kaggle/input/data/images_006/images/00011746_...  \n",
       "1  /kaggle/input/data/images_010/images/00021786_...  \n",
       "2  /kaggle/input/data/images_004/images/00008342_...  \n",
       "3  /kaggle/input/data/images_003/images/00005372_...  \n",
       "4  /kaggle/input/data/images_009/images/00018640_...  "
      ]
     },
     "execution_count": 5,
     "metadata": {},
     "output_type": "execute_result"
    }
   ],
   "source": [
    "df = all_df.sample(4000)\n",
    "df = df.reset_index(drop=True)\n",
    "\n",
    "value_counts = df['Finding Labels'].value_counts()\n",
    "print(value_counts)\n",
    "\n",
    "df.head()"
   ]
  },
  {
   "cell_type": "code",
   "execution_count": 6,
   "id": "02ed136e",
   "metadata": {
    "execution": {
     "iopub.execute_input": "2024-03-15T11:22:47.374453Z",
     "iopub.status.busy": "2024-03-15T11:22:47.374048Z",
     "iopub.status.idle": "2024-03-15T11:22:47.518172Z",
     "shell.execute_reply": "2024-03-15T11:22:47.517040Z"
    },
    "papermill": {
     "duration": 0.156792,
     "end_time": "2024-03-15T11:22:47.521077",
     "exception": false,
     "start_time": "2024-03-15T11:22:47.364285",
     "status": "completed"
    },
    "tags": []
   },
   "outputs": [],
   "source": [
    "import pandas as pd\n",
    "import torch\n",
    "from torch.utils.data import Dataset, DataLoader\n",
    "from torchvision import transforms\n",
    "from PIL import Image\n",
    "from sklearn.model_selection import train_test_split\n",
    "\n",
    "class CustomImageDataset(Dataset):\n",
    "    def __init__(self, dataframe, transform=None):\n",
    "\n",
    "        self.dataframe = dataframe\n",
    "        self.transform = transform\n",
    "\n",
    "    def __len__(self):\n",
    "        return len(self.dataframe)\n",
    "\n",
    "    def __getitem__(self, idx):\n",
    "        if torch.is_tensor(idx):\n",
    "            idx = idx.tolist()\n",
    "\n",
    "        img_name = self.dataframe.iloc[idx, 12]\n",
    "        image = Image.open(img_name)\n",
    "        label = self.dataframe.iloc[idx, 1]\n",
    "\n",
    "        if self.transform:\n",
    "            image = self.transform(image)\n",
    "\n",
    "        return image, label\n",
    "\n",
    "# Define your transformations\n",
    "transform = transforms.Compose([\n",
    "    transforms.Resize((128, 128)),\n",
    "    transforms.Grayscale(num_output_channels=1),\n",
    "    transforms.ToTensor(),\n",
    "])\n",
    "\n",
    "df_train, df_test = train_test_split(df, test_size=0.2, random_state=42)\n",
    "\n",
    "train_dataset = CustomImageDataset(dataframe=df_train, transform=transform)\n",
    "test_dataset = CustomImageDataset(dataframe=df_test, transform=transform)\n",
    "\n",
    "train_loader = DataLoader(train_dataset, batch_size=32, shuffle=True)\n",
    "test_loader = DataLoader(test_dataset, batch_size=32, shuffle=False)"
   ]
  },
  {
   "cell_type": "markdown",
   "id": "ef14a929",
   "metadata": {
    "papermill": {
     "duration": 0.008081,
     "end_time": "2024-03-15T11:22:47.537410",
     "exception": false,
     "start_time": "2024-03-15T11:22:47.529329",
     "status": "completed"
    },
    "tags": []
   },
   "source": [
    "# simple cnn"
   ]
  },
  {
   "cell_type": "code",
   "execution_count": 7,
   "id": "7659beb2",
   "metadata": {
    "execution": {
     "iopub.execute_input": "2024-03-15T11:22:47.556126Z",
     "iopub.status.busy": "2024-03-15T11:22:47.555682Z",
     "iopub.status.idle": "2024-03-15T13:34:47.277868Z",
     "shell.execute_reply": "2024-03-15T13:34:47.276519Z"
    },
    "papermill": {
     "duration": 7919.734964,
     "end_time": "2024-03-15T13:34:47.280692",
     "exception": false,
     "start_time": "2024-03-15T11:22:47.545728",
     "status": "completed"
    },
    "tags": []
   },
   "outputs": [
    {
     "name": "stdout",
     "output_type": "stream",
     "text": [
      "Epoch 1, Loss: 0.7045369648933411\n",
      "Accuracy on validation set: 58.625%\n",
      "Epoch 2, Loss: 0.6573574537038803\n",
      "Accuracy on validation set: 60.125%\n",
      "Epoch 3, Loss: 0.6511086386442184\n",
      "Accuracy on validation set: 61.875%\n",
      "Epoch 4, Loss: 0.6421122938394547\n",
      "Accuracy on validation set: 62.125%\n",
      "Epoch 5, Loss: 0.6334972685575485\n",
      "Accuracy on validation set: 60.25%\n",
      "Epoch 6, Loss: 0.6115054333209992\n",
      "Accuracy on validation set: 61.0%\n",
      "Epoch 7, Loss: 0.6016265189647675\n",
      "Accuracy on validation set: 59.125%\n",
      "Epoch 8, Loss: 0.5781916138529778\n",
      "Accuracy on validation set: 60.125%\n",
      "Epoch 9, Loss: 0.534782596230507\n",
      "Accuracy on validation set: 59.375%\n",
      "Epoch 10, Loss: 0.48655553966760634\n",
      "Accuracy on validation set: 56.875%\n",
      "Epoch 11, Loss: 0.4443267062306404\n",
      "Accuracy on validation set: 59.75%\n",
      "Epoch 12, Loss: 0.38656893715262414\n",
      "Accuracy on validation set: 58.125%\n",
      "Epoch 13, Loss: 0.3122369413077831\n",
      "Accuracy on validation set: 55.5%\n",
      "Epoch 14, Loss: 0.2509341863542795\n",
      "Accuracy on validation set: 55.625%\n",
      "Epoch 15, Loss: 0.18780344374477864\n",
      "Accuracy on validation set: 56.5%\n",
      "Epoch 16, Loss: 0.13863914366811514\n",
      "Accuracy on validation set: 56.375%\n",
      "Epoch 17, Loss: 0.0947792948409915\n",
      "Accuracy on validation set: 55.875%\n",
      "Epoch 18, Loss: 0.06779685325920581\n",
      "Accuracy on validation set: 57.25%\n",
      "Epoch 19, Loss: 0.03910135111771524\n",
      "Accuracy on validation set: 55.625%\n",
      "Epoch 20, Loss: 0.020603811112232508\n",
      "Accuracy on validation set: 56.25%\n",
      "Epoch 21, Loss: 0.0149078085902147\n",
      "Accuracy on validation set: 54.75%\n",
      "Epoch 22, Loss: 0.024542403252562506\n",
      "Accuracy on validation set: 54.25%\n",
      "Epoch 23, Loss: 0.011121471523074434\n",
      "Accuracy on validation set: 55.75%\n",
      "Epoch 24, Loss: 0.0038881991265225222\n",
      "Accuracy on validation set: 55.375%\n",
      "Epoch 25, Loss: 0.0020096905456739476\n",
      "Accuracy on validation set: 54.5%\n",
      "Epoch 26, Loss: 0.0015263287111883983\n",
      "Accuracy on validation set: 55.375%\n",
      "Epoch 27, Loss: 0.0011715563081088475\n",
      "Accuracy on validation set: 55.375%\n",
      "Epoch 28, Loss: 0.0009589579024031991\n",
      "Accuracy on validation set: 55.625%\n",
      "Epoch 29, Loss: 0.000801073756738333\n",
      "Accuracy on validation set: 55.625%\n",
      "Epoch 30, Loss: 0.0006737081093888264\n",
      "Accuracy on validation set: 55.5%\n",
      "Epoch 31, Loss: 0.0005884299971512519\n",
      "Accuracy on validation set: 55.625%\n",
      "Epoch 32, Loss: 0.0005014918073720765\n",
      "Accuracy on validation set: 55.625%\n",
      "Epoch 33, Loss: 0.0004516454433905892\n",
      "Accuracy on validation set: 55.25%\n",
      "Epoch 34, Loss: 0.0003875347617577063\n",
      "Accuracy on validation set: 55.375%\n",
      "Epoch 35, Loss: 0.00033775220668758266\n",
      "Accuracy on validation set: 56.0%\n",
      "Epoch 36, Loss: 0.00030361394601641223\n",
      "Accuracy on validation set: 55.875%\n",
      "Epoch 37, Loss: 0.00026721037120296386\n",
      "Accuracy on validation set: 55.875%\n",
      "Epoch 38, Loss: 0.00024062989665253555\n",
      "Accuracy on validation set: 55.625%\n",
      "Epoch 39, Loss: 0.00021817761569764115\n",
      "Accuracy on validation set: 56.125%\n",
      "Epoch 40, Loss: 0.00019450836240139324\n",
      "Accuracy on validation set: 56.0%\n",
      "Epoch 41, Loss: 0.0001771935802025837\n",
      "Accuracy on validation set: 56.0%\n",
      "Epoch 42, Loss: 0.0001605456097604474\n",
      "Accuracy on validation set: 56.25%\n",
      "Epoch 43, Loss: 0.00014594189487979748\n",
      "Accuracy on validation set: 55.875%\n",
      "Epoch 44, Loss: 0.00013159971973436768\n",
      "Accuracy on validation set: 56.375%\n",
      "Epoch 45, Loss: 0.00011981543731963029\n",
      "Accuracy on validation set: 56.5%\n",
      "Epoch 46, Loss: 0.00010887639395150472\n",
      "Accuracy on validation set: 56.25%\n",
      "Epoch 47, Loss: 0.00010130201497304369\n",
      "Accuracy on validation set: 56.375%\n",
      "Epoch 48, Loss: 9.134466517934925e-05\n",
      "Accuracy on validation set: 56.125%\n",
      "Epoch 49, Loss: 8.404231741224066e-05\n",
      "Accuracy on validation set: 56.0%\n",
      "Epoch 50, Loss: 7.646126935469511e-05\n",
      "Accuracy on validation set: 56.25%\n"
     ]
    }
   ],
   "source": [
    "import torch\n",
    "import torch.nn as nn\n",
    "import torch.optim as optim\n",
    "from torchvision import transforms, datasets\n",
    "\n",
    "\n",
    "\n",
    "# Define the CNN architecture\n",
    "class SimpleCNN(nn.Module):\n",
    "    def __init__(self):\n",
    "        super(SimpleCNN, self).__init__()\n",
    "        self.conv1 = nn.Conv2d(1, 32, kernel_size=3, stride=1, padding=1)\n",
    "        self.conv2 = nn.Conv2d(32, 64, kernel_size=3, stride=1, padding=1)\n",
    "        self.pool = nn.MaxPool2d(kernel_size=2, stride=2)\n",
    "        self.relu = nn.ReLU()\n",
    "        # Adjusted for flattened size after pooling layers\n",
    "        self.fc1 = nn.Linear(64 * 32 * 32, 128)  # Based on the output size of 32x32x64\n",
    "        self.fc2 = nn.Linear(128, 2)  # For binary classification\n",
    "\n",
    "    def forward(self, x):\n",
    "        x = self.pool(self.relu(self.conv1(x)))\n",
    "        x = self.pool(self.relu(self.conv2(x)))\n",
    "        x = torch.flatten(x, 1)  # Flatten all dimensions except the batch\n",
    "        x = self.relu(self.fc1(x))\n",
    "        x = self.fc2(x)\n",
    "        return x\n",
    "\n",
    "\n",
    "# Model, Loss, and Optimizer\n",
    "model = SimpleCNN()\n",
    "criterion = nn.CrossEntropyLoss()\n",
    "optimizer = optim.Adam(model.parameters(), lr=0.001)\n",
    "\n",
    "# Training Loop\n",
    "num_epochs = 50\n",
    "for epoch in range(num_epochs):\n",
    "    model.train()\n",
    "    running_loss = 0.0\n",
    "    for images, labels in train_loader:\n",
    "        optimizer.zero_grad()\n",
    "        outputs = model(images)\n",
    "        loss = criterion(outputs, labels)\n",
    "        loss.backward()\n",
    "        optimizer.step()\n",
    "        running_loss += loss.item()\n",
    "    print(f'Epoch {epoch+1}, Loss: {running_loss/len(train_loader)}')\n",
    "\n",
    "    # Validation Loop\n",
    "    model.eval()\n",
    "    total = 0\n",
    "    correct = 0\n",
    "    with torch.no_grad():\n",
    "        for images, labels in test_loader:\n",
    "            outputs = model(images)\n",
    "            _, predicted = torch.max(outputs.data, 1)\n",
    "            total += labels.size(0)\n",
    "            correct += (predicted == labels).sum().item()\n",
    "    print(f'Accuracy on validation set: {100 * correct / total}%')"
   ]
  },
  {
   "cell_type": "markdown",
   "id": "438b75f5",
   "metadata": {
    "papermill": {
     "duration": 0.018284,
     "end_time": "2024-03-15T13:34:47.317523",
     "exception": false,
     "start_time": "2024-03-15T13:34:47.299239",
     "status": "completed"
    },
    "tags": []
   },
   "source": [
    "# Alex net"
   ]
  },
  {
   "cell_type": "code",
   "execution_count": 8,
   "id": "ed51c573",
   "metadata": {
    "execution": {
     "iopub.execute_input": "2024-03-15T13:34:47.358798Z",
     "iopub.status.busy": "2024-03-15T13:34:47.358325Z",
     "iopub.status.idle": "2024-03-15T13:34:47.372350Z",
     "shell.execute_reply": "2024-03-15T13:34:47.371259Z"
    },
    "papermill": {
     "duration": 0.038848,
     "end_time": "2024-03-15T13:34:47.374983",
     "exception": false,
     "start_time": "2024-03-15T13:34:47.336135",
     "status": "completed"
    },
    "tags": []
   },
   "outputs": [],
   "source": [
    "class AlexNet(nn.Module):\n",
    "    def __init__(self, num_classes=2):\n",
    "        super(AlexNet, self).__init__()\n",
    "        self.features = nn.Sequential(\n",
    "            nn.Conv2d(1, 64, kernel_size=11, stride=4, padding=2),\n",
    "            nn.ReLU(inplace=True),\n",
    "            nn.MaxPool2d(kernel_size=3, stride=2),\n",
    "            nn.Conv2d(64, 192, kernel_size=5, padding=2),\n",
    "            nn.ReLU(inplace=True),\n",
    "            nn.MaxPool2d(kernel_size=3, stride=2),\n",
    "            nn.Conv2d(192, 384, kernel_size=3, padding=1),\n",
    "            nn.ReLU(inplace=True),\n",
    "            nn.Conv2d(384, 256, kernel_size=3, padding=1),\n",
    "            nn.ReLU(inplace=True),\n",
    "            nn.Conv2d(256, 256, kernel_size=3, padding=1),\n",
    "            nn.ReLU(inplace=True),\n",
    "            nn.MaxPool2d(kernel_size=3, stride=2),\n",
    "        )\n",
    "        self.avgpool = nn.AdaptiveAvgPool2d((6, 6))\n",
    "        self.classifier = nn.Sequential(\n",
    "            nn.Dropout(),\n",
    "            nn.Linear(256 * 6 * 6, 4096),\n",
    "            nn.ReLU(inplace=True),\n",
    "            nn.Dropout(),\n",
    "            nn.Linear(4096, 4096),\n",
    "            nn.ReLU(inplace=True),\n",
    "            nn.Linear(4096, num_classes),\n",
    "        )\n",
    "\n",
    "    def forward(self, x):\n",
    "        x = self.features(x)\n",
    "        x = self.avgpool(x)\n",
    "        x = torch.flatten(x, 1)\n",
    "        x = self.classifier(x)\n",
    "        return x"
   ]
  },
  {
   "cell_type": "code",
   "execution_count": 9,
   "id": "6e7423f8",
   "metadata": {
    "execution": {
     "iopub.execute_input": "2024-03-15T13:34:47.413939Z",
     "iopub.status.busy": "2024-03-15T13:34:47.413468Z",
     "iopub.status.idle": "2024-03-15T16:41:47.482925Z",
     "shell.execute_reply": "2024-03-15T16:41:47.481510Z"
    },
    "papermill": {
     "duration": 11220.09185,
     "end_time": "2024-03-15T16:41:47.485428",
     "exception": false,
     "start_time": "2024-03-15T13:34:47.393578",
     "status": "completed"
    },
    "tags": []
   },
   "outputs": [
    {
     "name": "stdout",
     "output_type": "stream",
     "text": [
      "Epoch 1, Loss: 0.7074764734506607\n",
      "Accuracy on validation set: 54.125%\n",
      "Epoch 2, Loss: 0.6905553036928177\n",
      "Accuracy on validation set: 54.125%\n",
      "Epoch 3, Loss: 0.6914090687036514\n",
      "Accuracy on validation set: 54.125%\n",
      "Epoch 4, Loss: 0.6910085749626159\n",
      "Accuracy on validation set: 54.125%\n",
      "Epoch 5, Loss: 0.6903885924816131\n",
      "Accuracy on validation set: 54.125%\n",
      "Epoch 6, Loss: 0.6908729535341263\n",
      "Accuracy on validation set: 54.125%\n",
      "Epoch 7, Loss: 0.6904696619510651\n",
      "Accuracy on validation set: 54.125%\n",
      "Epoch 8, Loss: 0.6902777600288391\n",
      "Accuracy on validation set: 54.125%\n",
      "Epoch 9, Loss: 0.6903454506397247\n",
      "Accuracy on validation set: 54.125%\n",
      "Epoch 10, Loss: 0.6904165333509446\n",
      "Accuracy on validation set: 54.125%\n",
      "Epoch 11, Loss: 0.6904273921251297\n",
      "Accuracy on validation set: 54.125%\n",
      "Epoch 12, Loss: 0.6902428406476975\n",
      "Accuracy on validation set: 54.125%\n",
      "Epoch 13, Loss: 0.6902204817533493\n",
      "Accuracy on validation set: 54.125%\n",
      "Epoch 14, Loss: 0.6904354506731033\n",
      "Accuracy on validation set: 54.125%\n",
      "Epoch 15, Loss: 0.6904449486732482\n",
      "Accuracy on validation set: 54.125%\n",
      "Epoch 16, Loss: 0.6900834673643113\n",
      "Accuracy on validation set: 54.125%\n",
      "Epoch 17, Loss: 0.6901411712169647\n",
      "Accuracy on validation set: 54.125%\n",
      "Epoch 18, Loss: 0.6904795241355896\n",
      "Accuracy on validation set: 54.125%\n",
      "Epoch 19, Loss: 0.6903271234035492\n",
      "Accuracy on validation set: 54.125%\n",
      "Epoch 20, Loss: 0.6901816838979721\n",
      "Accuracy on validation set: 54.125%\n",
      "Epoch 21, Loss: 0.690490984916687\n",
      "Accuracy on validation set: 54.125%\n",
      "Epoch 22, Loss: 0.6901507842540741\n",
      "Accuracy on validation set: 54.125%\n",
      "Epoch 23, Loss: 0.6901005554199219\n",
      "Accuracy on validation set: 54.125%\n",
      "Epoch 24, Loss: 0.690209891796112\n",
      "Accuracy on validation set: 54.125%\n",
      "Epoch 25, Loss: 0.6901342654228211\n",
      "Accuracy on validation set: 54.125%\n",
      "Epoch 26, Loss: 0.6900910329818726\n",
      "Accuracy on validation set: 54.125%\n",
      "Epoch 27, Loss: 0.6902219724655151\n",
      "Accuracy on validation set: 54.125%\n",
      "Epoch 28, Loss: 0.6902465647459031\n",
      "Accuracy on validation set: 54.125%\n",
      "Epoch 29, Loss: 0.6901182115077973\n",
      "Accuracy on validation set: 54.125%\n",
      "Epoch 30, Loss: 0.6901073813438415\n",
      "Accuracy on validation set: 54.125%\n",
      "Epoch 31, Loss: 0.6901219040155411\n",
      "Accuracy on validation set: 54.125%\n",
      "Epoch 32, Loss: 0.6902157944440842\n",
      "Accuracy on validation set: 54.125%\n",
      "Epoch 33, Loss: 0.6901632076501847\n",
      "Accuracy on validation set: 54.125%\n",
      "Epoch 34, Loss: 0.6901245963573456\n",
      "Accuracy on validation set: 54.125%\n",
      "Epoch 35, Loss: 0.690049586892128\n",
      "Accuracy on validation set: 54.125%\n",
      "Epoch 36, Loss: 0.6900813513994217\n",
      "Accuracy on validation set: 54.125%\n",
      "Epoch 37, Loss: 0.6900760763883591\n",
      "Accuracy on validation set: 54.125%\n",
      "Epoch 38, Loss: 0.6900789254903793\n",
      "Accuracy on validation set: 54.125%\n",
      "Epoch 39, Loss: 0.6901387697458268\n",
      "Accuracy on validation set: 54.125%\n",
      "Epoch 40, Loss: 0.6901868432760239\n",
      "Accuracy on validation set: 54.125%\n",
      "Epoch 41, Loss: 0.6901434075832367\n",
      "Accuracy on validation set: 54.125%\n",
      "Epoch 42, Loss: 0.6900730961561203\n",
      "Accuracy on validation set: 54.125%\n",
      "Epoch 43, Loss: 0.690153232216835\n",
      "Accuracy on validation set: 54.125%\n",
      "Epoch 44, Loss: 0.6901215010881424\n",
      "Accuracy on validation set: 54.125%\n",
      "Epoch 45, Loss: 0.6900415647029877\n",
      "Accuracy on validation set: 54.125%\n",
      "Epoch 46, Loss: 0.6901012498140335\n",
      "Accuracy on validation set: 54.125%\n",
      "Epoch 47, Loss: 0.6900909626483918\n",
      "Accuracy on validation set: 54.125%\n",
      "Epoch 48, Loss: 0.6900192028284073\n",
      "Accuracy on validation set: 54.125%\n",
      "Epoch 49, Loss: 0.6901438307762146\n",
      "Accuracy on validation set: 54.125%\n",
      "Epoch 50, Loss: 0.6901990789175033\n",
      "Accuracy on validation set: 54.125%\n"
     ]
    }
   ],
   "source": [
    "model = AlexNet(num_classes=2)  # For binary classification\n",
    "criterion = nn.CrossEntropyLoss()\n",
    "optimizer = optim.Adam(model.parameters(), lr=0.001)\n",
    "\n",
    "# Assuming 'train_loader' and 'test_loader' are defined similarly to your simple CNN example\n",
    "\n",
    "# Training Loop\n",
    "num_epochs = 50\n",
    "for epoch in range(num_epochs):\n",
    "    model.train()\n",
    "    running_loss = 0.0\n",
    "    for images, labels in train_loader:\n",
    "        optimizer.zero_grad()\n",
    "        outputs = model(images)\n",
    "        loss = criterion(outputs, labels)\n",
    "        loss.backward()\n",
    "        optimizer.step()\n",
    "        running_loss += loss.item()\n",
    "    print(f'Epoch {epoch+1}, Loss: {running_loss/len(train_loader)}')\n",
    "\n",
    "    # Validation Loop\n",
    "    model.eval()\n",
    "    total = 0\n",
    "    correct = 0\n",
    "    with torch.no_grad():\n",
    "        for images, labels in test_loader:\n",
    "            outputs = model(images)\n",
    "            _, predicted = torch.max(outputs.data, 1)\n",
    "            total += labels.size(0)\n",
    "            correct += (predicted == labels).sum().item()\n",
    "    print(f'Accuracy on validation set: {100 * correct / total}%')"
   ]
  },
  {
   "cell_type": "markdown",
   "id": "a6f2ed51",
   "metadata": {
    "papermill": {
     "duration": 0.026457,
     "end_time": "2024-03-15T16:41:47.538564",
     "exception": false,
     "start_time": "2024-03-15T16:41:47.512107",
     "status": "completed"
    },
    "tags": []
   },
   "source": [
    "# Mobile net"
   ]
  },
  {
   "cell_type": "code",
   "execution_count": 10,
   "id": "6664fad5",
   "metadata": {
    "execution": {
     "iopub.execute_input": "2024-03-15T16:41:47.595041Z",
     "iopub.status.busy": "2024-03-15T16:41:47.594623Z",
     "iopub.status.idle": "2024-03-15T16:42:01.262315Z",
     "shell.execute_reply": "2024-03-15T16:42:01.260904Z"
    },
    "papermill": {
     "duration": 13.699151,
     "end_time": "2024-03-15T16:42:01.265275",
     "exception": false,
     "start_time": "2024-03-15T16:41:47.566124",
     "status": "completed"
    },
    "tags": []
   },
   "outputs": [
    {
     "name": "stderr",
     "output_type": "stream",
     "text": [
      "2024-03-15 16:41:49.922757: E external/local_xla/xla/stream_executor/cuda/cuda_dnn.cc:9261] Unable to register cuDNN factory: Attempting to register factory for plugin cuDNN when one has already been registered\n",
      "2024-03-15 16:41:49.922907: E external/local_xla/xla/stream_executor/cuda/cuda_fft.cc:607] Unable to register cuFFT factory: Attempting to register factory for plugin cuFFT when one has already been registered\n",
      "2024-03-15 16:41:50.106133: E external/local_xla/xla/stream_executor/cuda/cuda_blas.cc:1515] Unable to register cuBLAS factory: Attempting to register factory for plugin cuBLAS when one has already been registered\n"
     ]
    }
   ],
   "source": [
    "from tensorflow.keras.preprocessing.image import ImageDataGenerator\n",
    "IMG_SIZE = (128, 128)\n",
    "core_idg = ImageDataGenerator(samplewise_center=True, \n",
    "                              samplewise_std_normalization=True, \n",
    "                              horizontal_flip = True, \n",
    "                              vertical_flip = False, \n",
    "                              height_shift_range= 0.05, \n",
    "                              width_shift_range=0.1, \n",
    "                              rotation_range=5, \n",
    "                              shear_range = 0.1,\n",
    "                              fill_mode = 'reflect',\n",
    "                              zoom_range=0.15)"
   ]
  },
  {
   "cell_type": "code",
   "execution_count": 11,
   "id": "60963f2f",
   "metadata": {
    "execution": {
     "iopub.execute_input": "2024-03-15T16:42:01.328379Z",
     "iopub.status.busy": "2024-03-15T16:42:01.326967Z",
     "iopub.status.idle": "2024-03-15T16:42:37.497009Z",
     "shell.execute_reply": "2024-03-15T16:42:37.495757Z"
    },
    "papermill": {
     "duration": 36.204789,
     "end_time": "2024-03-15T16:42:37.499889",
     "exception": false,
     "start_time": "2024-03-15T16:42:01.295100",
     "status": "completed"
    },
    "tags": []
   },
   "outputs": [
    {
     "name": "stdout",
     "output_type": "stream",
     "text": [
      "Found 3200 validated image filenames belonging to 2 classes.\n",
      "Found 800 validated image filenames belonging to 2 classes.\n",
      "Found 3200 validated image filenames belonging to 2 classes.\n",
      "Found 800 validated image filenames belonging to 2 classes.\n"
     ]
    }
   ],
   "source": [
    "df_train_mo = df_train\n",
    "df_test_mo = df_test\n",
    "df_train_mo['Finding Labels'] = df_train_mo['Finding Labels'].astype(str)\n",
    "df_test_mo['Finding Labels'] = df_test_mo['Finding Labels'].astype(str)\n",
    "\n",
    "train_gen = core_idg.flow_from_dataframe(dataframe=df_train_mo, \n",
    "                             directory=None,\n",
    "                             x_col = 'path',\n",
    "                            y_col = 'Finding Labels', \n",
    "                             class_mode = 'categorical',\n",
    "                            classes = [\"0\",\"1\"],\n",
    "                            target_size = IMG_SIZE,\n",
    "                             color_mode = 'grayscale',\n",
    "                            batch_size = 32)\n",
    "\n",
    "valid_gen = core_idg.flow_from_dataframe(dataframe=df_test_mo, \n",
    "                             directory=None,\n",
    "                             x_col = 'path',\n",
    "                            y_col = 'Finding Labels', \n",
    "                             class_mode = 'categorical',\n",
    "                            classes = [\"0\",\"1\"],\n",
    "                            target_size = IMG_SIZE,\n",
    "                             color_mode = 'grayscale',\n",
    "                            batch_size = 256) # we can use much larger batches for evaluation\n",
    "\n",
    "train_X, train_Y = next(core_idg.flow_from_dataframe(dataframe=df_train_mo, \n",
    "                             directory=None,\n",
    "                             x_col = 'path',\n",
    "                            y_col = 'Finding Labels', \n",
    "                             class_mode = 'categorical',\n",
    "                            classes = [\"0\",\"1\"],\n",
    "                            target_size = IMG_SIZE,\n",
    "                             color_mode = 'grayscale',\n",
    "                            batch_size = 1024))\n",
    "\n",
    "test_X, test_Y = next(core_idg.flow_from_dataframe(dataframe=df_test_mo, \n",
    "                             directory=None,\n",
    "                             x_col = 'path',\n",
    "                            y_col = 'Finding Labels', \n",
    "                             class_mode = 'categorical',\n",
    "                            classes = [\"0\",\"1\"],\n",
    "                            target_size = IMG_SIZE,\n",
    "                             color_mode = 'grayscale',\n",
    "                            batch_size = 1024))\n",
    "\n",
    "t_x, t_y = next(train_gen)"
   ]
  },
  {
   "cell_type": "code",
   "execution_count": 12,
   "id": "b731ab48",
   "metadata": {
    "execution": {
     "iopub.execute_input": "2024-03-15T16:42:37.559156Z",
     "iopub.status.busy": "2024-03-15T16:42:37.558672Z",
     "iopub.status.idle": "2024-03-15T16:42:38.342007Z",
     "shell.execute_reply": "2024-03-15T16:42:38.339889Z"
    },
    "papermill": {
     "duration": 0.817983,
     "end_time": "2024-03-15T16:42:38.345791",
     "exception": false,
     "start_time": "2024-03-15T16:42:37.527808",
     "status": "completed"
    },
    "tags": []
   },
   "outputs": [
    {
     "data": {
      "text/html": [
       "<pre style=\"white-space:pre;overflow-x:auto;line-height:normal;font-family:Menlo,'DejaVu Sans Mono',consolas,'Courier New',monospace\"><span style=\"font-weight: bold\">Model: \"sequential\"</span>\n",
       "</pre>\n"
      ],
      "text/plain": [
       "\u001b[1mModel: \"sequential\"\u001b[0m\n"
      ]
     },
     "metadata": {},
     "output_type": "display_data"
    },
    {
     "data": {
      "text/html": [
       "<pre style=\"white-space:pre;overflow-x:auto;line-height:normal;font-family:Menlo,'DejaVu Sans Mono',consolas,'Courier New',monospace\">┏━━━━━━━━━━━━━━━━━━━━━━━━━━━━━━━━━┳━━━━━━━━━━━━━━━━━━━━━━━━┳━━━━━━━━━━━━━━━┓\n",
       "┃<span style=\"font-weight: bold\"> Layer (type)                    </span>┃<span style=\"font-weight: bold\"> Output Shape           </span>┃<span style=\"font-weight: bold\">       Param # </span>┃\n",
       "┡━━━━━━━━━━━━━━━━━━━━━━━━━━━━━━━━━╇━━━━━━━━━━━━━━━━━━━━━━━━╇━━━━━━━━━━━━━━━┩\n",
       "│ mobilenet_1.00_128 (<span style=\"color: #0087ff; text-decoration-color: #0087ff\">Functional</span>) │ ?                      │     <span style=\"color: #00af00; text-decoration-color: #00af00\">3,228,288</span> │\n",
       "├─────────────────────────────────┼────────────────────────┼───────────────┤\n",
       "│ global_average_pooling2d        │ ?                      │   <span style=\"color: #00af00; text-decoration-color: #00af00\">0</span> (unbuilt) │\n",
       "│ (<span style=\"color: #0087ff; text-decoration-color: #0087ff\">GlobalAveragePooling2D</span>)        │                        │               │\n",
       "├─────────────────────────────────┼────────────────────────┼───────────────┤\n",
       "│ dropout (<span style=\"color: #0087ff; text-decoration-color: #0087ff\">Dropout</span>)               │ ?                      │             <span style=\"color: #00af00; text-decoration-color: #00af00\">0</span> │\n",
       "├─────────────────────────────────┼────────────────────────┼───────────────┤\n",
       "│ dense (<span style=\"color: #0087ff; text-decoration-color: #0087ff\">Dense</span>)                   │ ?                      │   <span style=\"color: #00af00; text-decoration-color: #00af00\">0</span> (unbuilt) │\n",
       "├─────────────────────────────────┼────────────────────────┼───────────────┤\n",
       "│ dropout_1 (<span style=\"color: #0087ff; text-decoration-color: #0087ff\">Dropout</span>)             │ ?                      │             <span style=\"color: #00af00; text-decoration-color: #00af00\">0</span> │\n",
       "├─────────────────────────────────┼────────────────────────┼───────────────┤\n",
       "│ dense_1 (<span style=\"color: #0087ff; text-decoration-color: #0087ff\">Dense</span>)                 │ ?                      │   <span style=\"color: #00af00; text-decoration-color: #00af00\">0</span> (unbuilt) │\n",
       "└─────────────────────────────────┴────────────────────────┴───────────────┘\n",
       "</pre>\n"
      ],
      "text/plain": [
       "┏━━━━━━━━━━━━━━━━━━━━━━━━━━━━━━━━━┳━━━━━━━━━━━━━━━━━━━━━━━━┳━━━━━━━━━━━━━━━┓\n",
       "┃\u001b[1m \u001b[0m\u001b[1mLayer (type)                   \u001b[0m\u001b[1m \u001b[0m┃\u001b[1m \u001b[0m\u001b[1mOutput Shape          \u001b[0m\u001b[1m \u001b[0m┃\u001b[1m \u001b[0m\u001b[1m      Param #\u001b[0m\u001b[1m \u001b[0m┃\n",
       "┡━━━━━━━━━━━━━━━━━━━━━━━━━━━━━━━━━╇━━━━━━━━━━━━━━━━━━━━━━━━╇━━━━━━━━━━━━━━━┩\n",
       "│ mobilenet_1.00_128 (\u001b[38;5;33mFunctional\u001b[0m) │ ?                      │     \u001b[38;5;34m3,228,288\u001b[0m │\n",
       "├─────────────────────────────────┼────────────────────────┼───────────────┤\n",
       "│ global_average_pooling2d        │ ?                      │   \u001b[38;5;34m0\u001b[0m (unbuilt) │\n",
       "│ (\u001b[38;5;33mGlobalAveragePooling2D\u001b[0m)        │                        │               │\n",
       "├─────────────────────────────────┼────────────────────────┼───────────────┤\n",
       "│ dropout (\u001b[38;5;33mDropout\u001b[0m)               │ ?                      │             \u001b[38;5;34m0\u001b[0m │\n",
       "├─────────────────────────────────┼────────────────────────┼───────────────┤\n",
       "│ dense (\u001b[38;5;33mDense\u001b[0m)                   │ ?                      │   \u001b[38;5;34m0\u001b[0m (unbuilt) │\n",
       "├─────────────────────────────────┼────────────────────────┼───────────────┤\n",
       "│ dropout_1 (\u001b[38;5;33mDropout\u001b[0m)             │ ?                      │             \u001b[38;5;34m0\u001b[0m │\n",
       "├─────────────────────────────────┼────────────────────────┼───────────────┤\n",
       "│ dense_1 (\u001b[38;5;33mDense\u001b[0m)                 │ ?                      │   \u001b[38;5;34m0\u001b[0m (unbuilt) │\n",
       "└─────────────────────────────────┴────────────────────────┴───────────────┘\n"
      ]
     },
     "metadata": {},
     "output_type": "display_data"
    },
    {
     "data": {
      "text/html": [
       "<pre style=\"white-space:pre;overflow-x:auto;line-height:normal;font-family:Menlo,'DejaVu Sans Mono',consolas,'Courier New',monospace\"><span style=\"font-weight: bold\"> Total params: </span><span style=\"color: #00af00; text-decoration-color: #00af00\">3,228,288</span> (12.31 MB)\n",
       "</pre>\n"
      ],
      "text/plain": [
       "\u001b[1m Total params: \u001b[0m\u001b[38;5;34m3,228,288\u001b[0m (12.31 MB)\n"
      ]
     },
     "metadata": {},
     "output_type": "display_data"
    },
    {
     "data": {
      "text/html": [
       "<pre style=\"white-space:pre;overflow-x:auto;line-height:normal;font-family:Menlo,'DejaVu Sans Mono',consolas,'Courier New',monospace\"><span style=\"font-weight: bold\"> Trainable params: </span><span style=\"color: #00af00; text-decoration-color: #00af00\">3,206,400</span> (12.23 MB)\n",
       "</pre>\n"
      ],
      "text/plain": [
       "\u001b[1m Trainable params: \u001b[0m\u001b[38;5;34m3,206,400\u001b[0m (12.23 MB)\n"
      ]
     },
     "metadata": {},
     "output_type": "display_data"
    },
    {
     "data": {
      "text/html": [
       "<pre style=\"white-space:pre;overflow-x:auto;line-height:normal;font-family:Menlo,'DejaVu Sans Mono',consolas,'Courier New',monospace\"><span style=\"font-weight: bold\"> Non-trainable params: </span><span style=\"color: #00af00; text-decoration-color: #00af00\">21,888</span> (85.50 KB)\n",
       "</pre>\n"
      ],
      "text/plain": [
       "\u001b[1m Non-trainable params: \u001b[0m\u001b[38;5;34m21,888\u001b[0m (85.50 KB)\n"
      ]
     },
     "metadata": {},
     "output_type": "display_data"
    }
   ],
   "source": [
    "from keras.applications.mobilenet import MobileNet\n",
    "from keras.layers import GlobalAveragePooling2D, Dense, Dropout, Flatten\n",
    "from keras.models import Sequential\n",
    "from keras import optimizers, callbacks, regularizers\n",
    "base_mobilenet_model = MobileNet(input_shape =  t_x.shape[1:], \n",
    "                                 include_top = False, weights = None)\n",
    "multi_disease_model = Sequential()\n",
    "multi_disease_model.add(base_mobilenet_model)\n",
    "multi_disease_model.add(GlobalAveragePooling2D())\n",
    "multi_disease_model.add(Dropout(0.5))\n",
    "multi_disease_model.add(Dense(512))\n",
    "multi_disease_model.add(Dropout(0.5))\n",
    "multi_disease_model.add(Dense(2, activation = 'sigmoid'))\n",
    "multi_disease_model.compile(optimizer = 'adam', loss = 'binary_crossentropy',\n",
    "                           metrics = ['binary_accuracy', 'mae'])\n",
    "multi_disease_model.summary()"
   ]
  },
  {
   "cell_type": "code",
   "execution_count": 13,
   "id": "578c1db2",
   "metadata": {
    "execution": {
     "iopub.execute_input": "2024-03-15T16:42:38.412248Z",
     "iopub.status.busy": "2024-03-15T16:42:38.411547Z",
     "iopub.status.idle": "2024-03-15T16:42:38.419283Z",
     "shell.execute_reply": "2024-03-15T16:42:38.417832Z"
    },
    "papermill": {
     "duration": 0.044141,
     "end_time": "2024-03-15T16:42:38.422459",
     "exception": false,
     "start_time": "2024-03-15T16:42:38.378318",
     "status": "completed"
    },
    "tags": []
   },
   "outputs": [],
   "source": [
    "from keras.callbacks import ModelCheckpoint, LearningRateScheduler, EarlyStopping, ReduceLROnPlateau\n",
    "weight_path=\"xray_class_best.weights.h5\"\n",
    "\n",
    "checkpoint = ModelCheckpoint(weight_path, monitor='val_loss', verbose=1, \n",
    "                             save_best_only=True, mode='min', save_weights_only = True)\n",
    "\n",
    "early = EarlyStopping(monitor=\"val_loss\", \n",
    "                      mode=\"min\", \n",
    "                      patience=5)\n",
    "callbacks_list = [checkpoint, early]"
   ]
  },
  {
   "cell_type": "code",
   "execution_count": 14,
   "id": "6790f274",
   "metadata": {
    "execution": {
     "iopub.execute_input": "2024-03-15T16:42:38.487386Z",
     "iopub.status.busy": "2024-03-15T16:42:38.486659Z",
     "iopub.status.idle": "2024-03-15T16:42:38.509021Z",
     "shell.execute_reply": "2024-03-15T16:42:38.507693Z"
    },
    "papermill": {
     "duration": 0.058958,
     "end_time": "2024-03-15T16:42:38.512002",
     "exception": false,
     "start_time": "2024-03-15T16:42:38.453044",
     "status": "completed"
    },
    "tags": []
   },
   "outputs": [],
   "source": [
    "optimizers_list = [('sgd',optimizers.SGD( learning_rate=.1) ),\n",
    "                   ('sgd_momentum',optimizers.SGD(learning_rate=.1, ema_momentum=.9) ),\n",
    "                   ('adagrad',optimizers.Adagrad()),\n",
    "                   ('adadelta',optimizers.Adadelta()),\n",
    "                   ('adam', optimizers.Adam()) \n",
    "                  ]\n",
    "\n",
    "early = EarlyStopping(monitor=\"val_loss\", \n",
    "                      mode=\"min\", \n",
    "                      patience=5)\n",
    "\n",
    "callbacks_list = [early, ModelCheckpoint(filepath=weight_path, monitor='val_loss', mode='min', save_best_only=True, save_weights_only = True )]"
   ]
  },
  {
   "cell_type": "code",
   "execution_count": 15,
   "id": "b0d0dad3",
   "metadata": {
    "execution": {
     "iopub.execute_input": "2024-03-15T16:42:38.571943Z",
     "iopub.status.busy": "2024-03-15T16:42:38.571507Z",
     "iopub.status.idle": "2024-03-15T18:07:53.873259Z",
     "shell.execute_reply": "2024-03-15T18:07:53.872126Z"
    },
    "papermill": {
     "duration": 5115.392625,
     "end_time": "2024-03-15T18:07:53.933436",
     "exception": false,
     "start_time": "2024-03-15T16:42:38.540811",
     "status": "completed"
    },
    "tags": []
   },
   "outputs": [
    {
     "name": "stdout",
     "output_type": "stream",
     "text": [
      "Epoch 1/50\n"
     ]
    },
    {
     "name": "stderr",
     "output_type": "stream",
     "text": [
      "/opt/conda/lib/python3.10/site-packages/keras/src/trainers/data_adapters/py_dataset_adapter.py:122: UserWarning: Your `PyDataset` class should call `super().__init__(**kwargs)` in its constructor. `**kwargs` can include `workers`, `use_multiprocessing`, `max_queue_size`. Do not pass these arguments to `fit()`, as they will be ignored.\n",
      "  self._warn_if_super_not_called()\n"
     ]
    },
    {
     "name": "stdout",
     "output_type": "stream",
     "text": [
      "\u001b[1m 100/1000\u001b[0m \u001b[32m━━\u001b[0m\u001b[37m━━━━━━━━━━━━━━━━━━\u001b[0m \u001b[1m18:14\u001b[0m 1s/step - binary_accuracy: 0.5146 - loss: 1.0219 - mae: 0.4916"
     ]
    },
    {
     "name": "stderr",
     "output_type": "stream",
     "text": [
      "/opt/conda/lib/python3.10/contextlib.py:153: UserWarning: Your input ran out of data; interrupting training. Make sure that your dataset or generator can generate at least `steps_per_epoch * epochs` batches. You may need to use the `.repeat()` function when building your dataset.\n",
      "  self.gen.throw(typ, value, traceback)\n"
     ]
    },
    {
     "name": "stdout",
     "output_type": "stream",
     "text": [
      "\u001b[1m1000/1000\u001b[0m \u001b[32m━━━━━━━━━━━━━━━━━━━━\u001b[0m\u001b[37m\u001b[0m \u001b[1m142s\u001b[0m 127ms/step - binary_accuracy: 0.5233 - loss: 0.8687 - mae: 0.4890 - val_binary_accuracy: 0.5412 - val_loss: 0.6902 - val_mae: 0.4954\n",
      "Epoch 2/50\n",
      "\u001b[1m1000/1000\u001b[0m \u001b[32m━━━━━━━━━━━━━━━━━━━━\u001b[0m\u001b[37m\u001b[0m \u001b[1m138s\u001b[0m 123ms/step - binary_accuracy: 0.5471 - loss: 0.7226 - mae: 0.4773 - val_binary_accuracy: 0.5412 - val_loss: 0.6899 - val_mae: 0.4969\n",
      "Epoch 3/50\n",
      "\u001b[1m1000/1000\u001b[0m \u001b[32m━━━━━━━━━━━━━━━━━━━━\u001b[0m\u001b[37m\u001b[0m \u001b[1m142s\u001b[0m 123ms/step - binary_accuracy: 0.5576 - loss: 0.7084 - mae: 0.4768 - val_binary_accuracy: 0.5412 - val_loss: 0.6914 - val_mae: 0.4989\n",
      "Epoch 4/50\n",
      "\u001b[1m1000/1000\u001b[0m \u001b[32m━━━━━━━━━━━━━━━━━━━━\u001b[0m\u001b[37m\u001b[0m \u001b[1m130s\u001b[0m 124ms/step - binary_accuracy: 0.5861 - loss: 0.6907 - mae: 0.4646 - val_binary_accuracy: 0.4588 - val_loss: 0.7218 - val_mae: 0.5066\n",
      "Epoch 5/50\n",
      "\u001b[1m1000/1000\u001b[0m \u001b[32m━━━━━━━━━━━━━━━━━━━━\u001b[0m\u001b[37m\u001b[0m \u001b[1m140s\u001b[0m 122ms/step - binary_accuracy: 0.5798 - loss: 0.6934 - mae: 0.4659 - val_binary_accuracy: 0.5412 - val_loss: 0.6817 - val_mae: 0.4831\n",
      "Epoch 6/50\n",
      "\u001b[1m1000/1000\u001b[0m \u001b[32m━━━━━━━━━━━━━━━━━━━━\u001b[0m\u001b[37m\u001b[0m \u001b[1m141s\u001b[0m 122ms/step - binary_accuracy: 0.5808 - loss: 0.6967 - mae: 0.4653 - val_binary_accuracy: 0.5938 - val_loss: 0.6605 - val_mae: 0.4752\n",
      "Epoch 7/50\n",
      "\u001b[1m1000/1000\u001b[0m \u001b[32m━━━━━━━━━━━━━━━━━━━━\u001b[0m\u001b[37m\u001b[0m \u001b[1m128s\u001b[0m 122ms/step - binary_accuracy: 0.5892 - loss: 0.6863 - mae: 0.4612 - val_binary_accuracy: 0.5931 - val_loss: 0.6754 - val_mae: 0.4487\n",
      "Epoch 8/50\n",
      "\u001b[1m1000/1000\u001b[0m \u001b[32m━━━━━━━━━━━━━━━━━━━━\u001b[0m\u001b[37m\u001b[0m \u001b[1m143s\u001b[0m 123ms/step - binary_accuracy: 0.5901 - loss: 0.6809 - mae: 0.4593 - val_binary_accuracy: 0.5894 - val_loss: 0.7123 - val_mae: 0.4467\n",
      "Epoch 9/50\n",
      "\u001b[1m1000/1000\u001b[0m \u001b[32m━━━━━━━━━━━━━━━━━━━━\u001b[0m\u001b[37m\u001b[0m \u001b[1m140s\u001b[0m 121ms/step - binary_accuracy: 0.5864 - loss: 0.6852 - mae: 0.4597 - val_binary_accuracy: 0.5994 - val_loss: 0.7744 - val_mae: 0.4394\n",
      "Epoch 10/50\n",
      "\u001b[1m1000/1000\u001b[0m \u001b[32m━━━━━━━━━━━━━━━━━━━━\u001b[0m\u001b[37m\u001b[0m \u001b[1m126s\u001b[0m 121ms/step - binary_accuracy: 0.5955 - loss: 0.6819 - mae: 0.4563 - val_binary_accuracy: 0.6019 - val_loss: 0.6673 - val_mae: 0.4572\n",
      "Epoch 11/50\n",
      "\u001b[1m1000/1000\u001b[0m \u001b[32m━━━━━━━━━━━━━━━━━━━━\u001b[0m\u001b[37m\u001b[0m \u001b[1m142s\u001b[0m 121ms/step - binary_accuracy: 0.5884 - loss: 0.6834 - mae: 0.4609 - val_binary_accuracy: 0.6162 - val_loss: 0.6920 - val_mae: 0.4390\n",
      "Epoch 1/50\n",
      "\u001b[1m1000/1000\u001b[0m \u001b[32m━━━━━━━━━━━━━━━━━━━━\u001b[0m\u001b[37m\u001b[0m \u001b[1m135s\u001b[0m 122ms/step - binary_accuracy: 0.5968 - loss: 0.6762 - mae: 0.4549 - val_binary_accuracy: 0.6263 - val_loss: 0.7087 - val_mae: 0.4330\n",
      "Epoch 2/50\n",
      "\u001b[1m1000/1000\u001b[0m \u001b[32m━━━━━━━━━━━━━━━━━━━━\u001b[0m\u001b[37m\u001b[0m \u001b[1m126s\u001b[0m 120ms/step - binary_accuracy: 0.6040 - loss: 0.6761 - mae: 0.4541 - val_binary_accuracy: 0.6263 - val_loss: 0.6536 - val_mae: 0.4525\n",
      "Epoch 3/50\n",
      "\u001b[1m1000/1000\u001b[0m \u001b[32m━━━━━━━━━━━━━━━━━━━━\u001b[0m\u001b[37m\u001b[0m \u001b[1m125s\u001b[0m 119ms/step - binary_accuracy: 0.5919 - loss: 0.6783 - mae: 0.4567 - val_binary_accuracy: 0.6237 - val_loss: 0.6740 - val_mae: 0.4390\n",
      "Epoch 4/50\n",
      "\u001b[1m1000/1000\u001b[0m \u001b[32m━━━━━━━━━━━━━━━━━━━━\u001b[0m\u001b[37m\u001b[0m \u001b[1m128s\u001b[0m 123ms/step - binary_accuracy: 0.6044 - loss: 0.6674 - mae: 0.4487 - val_binary_accuracy: 0.6187 - val_loss: 0.6842 - val_mae: 0.4370\n",
      "Epoch 5/50\n",
      "\u001b[1m1000/1000\u001b[0m \u001b[32m━━━━━━━━━━━━━━━━━━━━\u001b[0m\u001b[37m\u001b[0m \u001b[1m126s\u001b[0m 121ms/step - binary_accuracy: 0.6069 - loss: 0.6713 - mae: 0.4533 - val_binary_accuracy: 0.6075 - val_loss: 0.6720 - val_mae: 0.4470\n",
      "Epoch 6/50\n",
      "\u001b[1m1000/1000\u001b[0m \u001b[32m━━━━━━━━━━━━━━━━━━━━\u001b[0m\u001b[37m\u001b[0m \u001b[1m127s\u001b[0m 121ms/step - binary_accuracy: 0.6127 - loss: 0.6669 - mae: 0.4472 - val_binary_accuracy: 0.6100 - val_loss: 0.6498 - val_mae: 0.4579\n",
      "Epoch 7/50\n",
      "\u001b[1m1000/1000\u001b[0m \u001b[32m━━━━━━━━━━━━━━━━━━━━\u001b[0m\u001b[37m\u001b[0m \u001b[1m128s\u001b[0m 122ms/step - binary_accuracy: 0.6001 - loss: 0.6733 - mae: 0.4533 - val_binary_accuracy: 0.6263 - val_loss: 0.6514 - val_mae: 0.4651\n",
      "Epoch 8/50\n",
      "\u001b[1m1000/1000\u001b[0m \u001b[32m━━━━━━━━━━━━━━━━━━━━\u001b[0m\u001b[37m\u001b[0m \u001b[1m141s\u001b[0m 121ms/step - binary_accuracy: 0.5940 - loss: 0.6721 - mae: 0.4553 - val_binary_accuracy: 0.5975 - val_loss: 0.6600 - val_mae: 0.4531\n",
      "Epoch 9/50\n",
      "\u001b[1m1000/1000\u001b[0m \u001b[32m━━━━━━━━━━━━━━━━━━━━\u001b[0m\u001b[37m\u001b[0m \u001b[1m143s\u001b[0m 122ms/step - binary_accuracy: 0.6116 - loss: 0.6661 - mae: 0.4493 - val_binary_accuracy: 0.5987 - val_loss: 0.6612 - val_mae: 0.4582\n",
      "Epoch 10/50\n",
      "\u001b[1m1000/1000\u001b[0m \u001b[32m━━━━━━━━━━━━━━━━━━━━\u001b[0m\u001b[37m\u001b[0m \u001b[1m141s\u001b[0m 121ms/step - binary_accuracy: 0.6151 - loss: 0.6598 - mae: 0.4478 - val_binary_accuracy: 0.6162 - val_loss: 0.6848 - val_mae: 0.4287\n",
      "Epoch 11/50\n",
      "\u001b[1m1000/1000\u001b[0m \u001b[32m━━━━━━━━━━━━━━━━━━━━\u001b[0m\u001b[37m\u001b[0m \u001b[1m142s\u001b[0m 121ms/step - binary_accuracy: 0.6252 - loss: 0.6557 - mae: 0.4417 - val_binary_accuracy: 0.6237 - val_loss: 0.6639 - val_mae: 0.4414\n",
      "Epoch 1/50\n",
      "\u001b[1m1000/1000\u001b[0m \u001b[32m━━━━━━━━━━━━━━━━━━━━\u001b[0m\u001b[37m\u001b[0m \u001b[1m143s\u001b[0m 126ms/step - binary_accuracy: 0.6355 - loss: 0.6395 - mae: 0.4388 - val_binary_accuracy: 0.6200 - val_loss: 0.6581 - val_mae: 0.4467\n",
      "Epoch 2/50\n",
      "\u001b[1m1000/1000\u001b[0m \u001b[32m━━━━━━━━━━━━━━━━━━━━\u001b[0m\u001b[37m\u001b[0m \u001b[1m129s\u001b[0m 123ms/step - binary_accuracy: 0.6348 - loss: 0.6336 - mae: 0.4380 - val_binary_accuracy: 0.6200 - val_loss: 0.6572 - val_mae: 0.4474\n",
      "Epoch 3/50\n",
      "\u001b[1m1000/1000\u001b[0m \u001b[32m━━━━━━━━━━━━━━━━━━━━\u001b[0m\u001b[37m\u001b[0m \u001b[1m143s\u001b[0m 124ms/step - binary_accuracy: 0.6315 - loss: 0.6350 - mae: 0.4393 - val_binary_accuracy: 0.6200 - val_loss: 0.6568 - val_mae: 0.4475\n",
      "Epoch 4/50\n",
      "\u001b[1m1000/1000\u001b[0m \u001b[32m━━━━━━━━━━━━━━━━━━━━\u001b[0m\u001b[37m\u001b[0m \u001b[1m141s\u001b[0m 123ms/step - binary_accuracy: 0.6454 - loss: 0.6414 - mae: 0.4421 - val_binary_accuracy: 0.6212 - val_loss: 0.6557 - val_mae: 0.4482\n",
      "Epoch 5/50\n",
      "\u001b[1m1000/1000\u001b[0m \u001b[32m━━━━━━━━━━━━━━━━━━━━\u001b[0m\u001b[37m\u001b[0m \u001b[1m143s\u001b[0m 124ms/step - binary_accuracy: 0.6392 - loss: 0.6365 - mae: 0.4401 - val_binary_accuracy: 0.6250 - val_loss: 0.6553 - val_mae: 0.4487\n",
      "Epoch 1/50\n",
      "\u001b[1m1000/1000\u001b[0m \u001b[32m━━━━━━━━━━━━━━━━━━━━\u001b[0m\u001b[37m\u001b[0m \u001b[1m151s\u001b[0m 126ms/step - binary_accuracy: 0.6402 - loss: 0.6368 - mae: 0.4414 - val_binary_accuracy: 0.6263 - val_loss: 0.6555 - val_mae: 0.4480\n",
      "Epoch 2/50\n",
      "\u001b[1m1000/1000\u001b[0m \u001b[32m━━━━━━━━━━━━━━━━━━━━\u001b[0m\u001b[37m\u001b[0m \u001b[1m132s\u001b[0m 126ms/step - binary_accuracy: 0.6348 - loss: 0.6422 - mae: 0.4438 - val_binary_accuracy: 0.6250 - val_loss: 0.6558 - val_mae: 0.4478\n",
      "Epoch 3/50\n",
      "\u001b[1m1000/1000\u001b[0m \u001b[32m━━━━━━━━━━━━━━━━━━━━\u001b[0m\u001b[37m\u001b[0m \u001b[1m135s\u001b[0m 129ms/step - binary_accuracy: 0.6385 - loss: 0.6335 - mae: 0.4392 - val_binary_accuracy: 0.6237 - val_loss: 0.6557 - val_mae: 0.4479\n",
      "Epoch 4/50\n",
      "\u001b[1m1000/1000\u001b[0m \u001b[32m━━━━━━━━━━━━━━━━━━━━\u001b[0m\u001b[37m\u001b[0m \u001b[1m139s\u001b[0m 126ms/step - binary_accuracy: 0.6458 - loss: 0.6298 - mae: 0.4365 - val_binary_accuracy: 0.6237 - val_loss: 0.6556 - val_mae: 0.4481\n",
      "Epoch 5/50\n",
      "\u001b[1m1000/1000\u001b[0m \u001b[32m━━━━━━━━━━━━━━━━━━━━\u001b[0m\u001b[37m\u001b[0m \u001b[1m142s\u001b[0m 127ms/step - binary_accuracy: 0.6330 - loss: 0.6346 - mae: 0.4399 - val_binary_accuracy: 0.6225 - val_loss: 0.6558 - val_mae: 0.4478\n",
      "Epoch 1/50\n",
      "\u001b[1m1000/1000\u001b[0m \u001b[32m━━━━━━━━━━━━━━━━━━━━\u001b[0m\u001b[37m\u001b[0m \u001b[1m151s\u001b[0m 126ms/step - binary_accuracy: 0.5747 - loss: 0.7011 - mae: 0.4653 - val_binary_accuracy: 0.5437 - val_loss: 0.9474 - val_mae: 0.4400\n",
      "Epoch 2/50\n",
      "\u001b[1m1000/1000\u001b[0m \u001b[32m━━━━━━━━━━━━━━━━━━━━\u001b[0m\u001b[37m\u001b[0m \u001b[1m145s\u001b[0m 130ms/step - binary_accuracy: 0.6051 - loss: 0.6615 - mae: 0.4567 - val_binary_accuracy: 0.5788 - val_loss: 0.8782 - val_mae: 0.4451\n",
      "Epoch 3/50\n",
      "\u001b[1m1000/1000\u001b[0m \u001b[32m━━━━━━━━━━━━━━━━━━━━\u001b[0m\u001b[37m\u001b[0m \u001b[1m141s\u001b[0m 128ms/step - binary_accuracy: 0.6130 - loss: 0.6636 - mae: 0.4620 - val_binary_accuracy: 0.6025 - val_loss: 0.6699 - val_mae: 0.4629\n",
      "Epoch 4/50\n",
      "\u001b[1m1000/1000\u001b[0m \u001b[32m━━━━━━━━━━━━━━━━━━━━\u001b[0m\u001b[37m\u001b[0m \u001b[1m132s\u001b[0m 127ms/step - binary_accuracy: 0.6037 - loss: 0.6593 - mae: 0.4584 - val_binary_accuracy: 0.6050 - val_loss: 0.6843 - val_mae: 0.4591\n",
      "Epoch 5/50\n",
      "\u001b[1m1000/1000\u001b[0m \u001b[32m━━━━━━━━━━━━━━━━━━━━\u001b[0m\u001b[37m\u001b[0m \u001b[1m142s\u001b[0m 127ms/step - binary_accuracy: 0.6236 - loss: 0.6484 - mae: 0.4545 - val_binary_accuracy: 0.5475 - val_loss: 0.8019 - val_mae: 0.4514\n"
     ]
    },
    {
     "data": {
      "image/png": "[encoded data removed]",
      "text/plain": [
       "<Figure size 2000x500 with 1 Axes>"
      ]
     },
     "metadata": {},
     "output_type": "display_data"
    },
    {
     "data": {
      "text/plain": [
       "<Figure size 640x480 with 0 Axes>"
      ]
     },
     "metadata": {},
     "output_type": "display_data"
    }
   ],
   "source": [
    "plt.figure(figsize=(20,5))\n",
    "for optimizer in optimizers_list:\n",
    "    multi_disease_model.compile(optimizer = optimizer[1], loss = 'binary_crossentropy',\n",
    "                           metrics = ['binary_accuracy', 'mae'])\n",
    "    \n",
    "    history = multi_disease_model.fit(train_gen, \n",
    "                                  steps_per_epoch=1000,\n",
    "                                  validation_data = (test_X, test_Y), \n",
    "                                  epochs = 50, \n",
    "                                  callbacks = callbacks_list)\n",
    "      \n",
    "    \n",
    "    plt.plot(history.history['val_loss'])\n",
    "    \n",
    "plt.legend([x[0] for x in optimizers_list], loc='upper right')\n",
    "plt.title('model accuracy')\n",
    "plt.ylabel('loss')\n",
    "plt.xlabel('epoch')\n",
    "plt.show()\n",
    "plt.savefig('optimizer_selection.png', bbox_inches='tight')"
   ]
  },
  {
   "cell_type": "markdown",
   "id": "b36a519b",
   "metadata": {
    "papermill": {
     "duration": 0.404831,
     "end_time": "2024-03-15T18:07:54.752390",
     "exception": false,
     "start_time": "2024-03-15T18:07:54.347559",
     "status": "completed"
    },
    "tags": []
   },
   "source": [
    "#  VGG19"
   ]
  },
  {
   "cell_type": "code",
   "execution_count": 16,
   "id": "401e3b71",
   "metadata": {
    "execution": {
     "iopub.execute_input": "2024-03-15T18:07:55.559384Z",
     "iopub.status.busy": "2024-03-15T18:07:55.558972Z",
     "iopub.status.idle": "2024-03-15T18:08:02.895010Z",
     "shell.execute_reply": "2024-03-15T18:08:02.893292Z"
    },
    "papermill": {
     "duration": 7.744318,
     "end_time": "2024-03-15T18:08:02.897411",
     "exception": true,
     "start_time": "2024-03-15T18:07:55.153093",
     "status": "failed"
    },
    "tags": []
   },
   "outputs": [
    {
     "ename": "TypeError",
     "evalue": "cross_entropy_loss(): argument 'target' (position 2) must be Tensor, not tuple",
     "output_type": "error",
     "traceback": [
      "\u001b[0;31m---------------------------------------------------------------------------\u001b[0m",
      "\u001b[0;31mTypeError\u001b[0m                                 Traceback (most recent call last)",
      "Cell \u001b[0;32mIn[16], line 54\u001b[0m\n\u001b[1;32m     52\u001b[0m optimizer\u001b[38;5;241m.\u001b[39mzero_grad()\n\u001b[1;32m     53\u001b[0m outputs \u001b[38;5;241m=\u001b[39m model(images)\n\u001b[0;32m---> 54\u001b[0m loss \u001b[38;5;241m=\u001b[39m \u001b[43mcriterion\u001b[49m\u001b[43m(\u001b[49m\u001b[43moutputs\u001b[49m\u001b[43m,\u001b[49m\u001b[43m \u001b[49m\u001b[43mlabels\u001b[49m\u001b[43m)\u001b[49m\n\u001b[1;32m     55\u001b[0m loss\u001b[38;5;241m.\u001b[39mbackward()\n\u001b[1;32m     56\u001b[0m optimizer\u001b[38;5;241m.\u001b[39mstep()\n",
      "File \u001b[0;32m/opt/conda/lib/python3.10/site-packages/torch/nn/modules/module.py:1518\u001b[0m, in \u001b[0;36mModule._wrapped_call_impl\u001b[0;34m(self, *args, **kwargs)\u001b[0m\n\u001b[1;32m   1516\u001b[0m     \u001b[38;5;28;01mreturn\u001b[39;00m \u001b[38;5;28mself\u001b[39m\u001b[38;5;241m.\u001b[39m_compiled_call_impl(\u001b[38;5;241m*\u001b[39margs, \u001b[38;5;241m*\u001b[39m\u001b[38;5;241m*\u001b[39mkwargs)  \u001b[38;5;66;03m# type: ignore[misc]\u001b[39;00m\n\u001b[1;32m   1517\u001b[0m \u001b[38;5;28;01melse\u001b[39;00m:\n\u001b[0;32m-> 1518\u001b[0m     \u001b[38;5;28;01mreturn\u001b[39;00m \u001b[38;5;28;43mself\u001b[39;49m\u001b[38;5;241;43m.\u001b[39;49m\u001b[43m_call_impl\u001b[49m\u001b[43m(\u001b[49m\u001b[38;5;241;43m*\u001b[39;49m\u001b[43margs\u001b[49m\u001b[43m,\u001b[49m\u001b[43m \u001b[49m\u001b[38;5;241;43m*\u001b[39;49m\u001b[38;5;241;43m*\u001b[39;49m\u001b[43mkwargs\u001b[49m\u001b[43m)\u001b[49m\n",
      "File \u001b[0;32m/opt/conda/lib/python3.10/site-packages/torch/nn/modules/module.py:1527\u001b[0m, in \u001b[0;36mModule._call_impl\u001b[0;34m(self, *args, **kwargs)\u001b[0m\n\u001b[1;32m   1522\u001b[0m \u001b[38;5;66;03m# If we don't have any hooks, we want to skip the rest of the logic in\u001b[39;00m\n\u001b[1;32m   1523\u001b[0m \u001b[38;5;66;03m# this function, and just call forward.\u001b[39;00m\n\u001b[1;32m   1524\u001b[0m \u001b[38;5;28;01mif\u001b[39;00m \u001b[38;5;129;01mnot\u001b[39;00m (\u001b[38;5;28mself\u001b[39m\u001b[38;5;241m.\u001b[39m_backward_hooks \u001b[38;5;129;01mor\u001b[39;00m \u001b[38;5;28mself\u001b[39m\u001b[38;5;241m.\u001b[39m_backward_pre_hooks \u001b[38;5;129;01mor\u001b[39;00m \u001b[38;5;28mself\u001b[39m\u001b[38;5;241m.\u001b[39m_forward_hooks \u001b[38;5;129;01mor\u001b[39;00m \u001b[38;5;28mself\u001b[39m\u001b[38;5;241m.\u001b[39m_forward_pre_hooks\n\u001b[1;32m   1525\u001b[0m         \u001b[38;5;129;01mor\u001b[39;00m _global_backward_pre_hooks \u001b[38;5;129;01mor\u001b[39;00m _global_backward_hooks\n\u001b[1;32m   1526\u001b[0m         \u001b[38;5;129;01mor\u001b[39;00m _global_forward_hooks \u001b[38;5;129;01mor\u001b[39;00m _global_forward_pre_hooks):\n\u001b[0;32m-> 1527\u001b[0m     \u001b[38;5;28;01mreturn\u001b[39;00m \u001b[43mforward_call\u001b[49m\u001b[43m(\u001b[49m\u001b[38;5;241;43m*\u001b[39;49m\u001b[43margs\u001b[49m\u001b[43m,\u001b[49m\u001b[43m \u001b[49m\u001b[38;5;241;43m*\u001b[39;49m\u001b[38;5;241;43m*\u001b[39;49m\u001b[43mkwargs\u001b[49m\u001b[43m)\u001b[49m\n\u001b[1;32m   1529\u001b[0m \u001b[38;5;28;01mtry\u001b[39;00m:\n\u001b[1;32m   1530\u001b[0m     result \u001b[38;5;241m=\u001b[39m \u001b[38;5;28;01mNone\u001b[39;00m\n",
      "File \u001b[0;32m/opt/conda/lib/python3.10/site-packages/torch/nn/modules/loss.py:1179\u001b[0m, in \u001b[0;36mCrossEntropyLoss.forward\u001b[0;34m(self, input, target)\u001b[0m\n\u001b[1;32m   1178\u001b[0m \u001b[38;5;28;01mdef\u001b[39;00m \u001b[38;5;21mforward\u001b[39m(\u001b[38;5;28mself\u001b[39m, \u001b[38;5;28minput\u001b[39m: Tensor, target: Tensor) \u001b[38;5;241m-\u001b[39m\u001b[38;5;241m>\u001b[39m Tensor:\n\u001b[0;32m-> 1179\u001b[0m     \u001b[38;5;28;01mreturn\u001b[39;00m \u001b[43mF\u001b[49m\u001b[38;5;241;43m.\u001b[39;49m\u001b[43mcross_entropy\u001b[49m\u001b[43m(\u001b[49m\u001b[38;5;28;43minput\u001b[39;49m\u001b[43m,\u001b[49m\u001b[43m \u001b[49m\u001b[43mtarget\u001b[49m\u001b[43m,\u001b[49m\u001b[43m \u001b[49m\u001b[43mweight\u001b[49m\u001b[38;5;241;43m=\u001b[39;49m\u001b[38;5;28;43mself\u001b[39;49m\u001b[38;5;241;43m.\u001b[39;49m\u001b[43mweight\u001b[49m\u001b[43m,\u001b[49m\n\u001b[1;32m   1180\u001b[0m \u001b[43m                           \u001b[49m\u001b[43mignore_index\u001b[49m\u001b[38;5;241;43m=\u001b[39;49m\u001b[38;5;28;43mself\u001b[39;49m\u001b[38;5;241;43m.\u001b[39;49m\u001b[43mignore_index\u001b[49m\u001b[43m,\u001b[49m\u001b[43m \u001b[49m\u001b[43mreduction\u001b[49m\u001b[38;5;241;43m=\u001b[39;49m\u001b[38;5;28;43mself\u001b[39;49m\u001b[38;5;241;43m.\u001b[39;49m\u001b[43mreduction\u001b[49m\u001b[43m,\u001b[49m\n\u001b[1;32m   1181\u001b[0m \u001b[43m                           \u001b[49m\u001b[43mlabel_smoothing\u001b[49m\u001b[38;5;241;43m=\u001b[39;49m\u001b[38;5;28;43mself\u001b[39;49m\u001b[38;5;241;43m.\u001b[39;49m\u001b[43mlabel_smoothing\u001b[49m\u001b[43m)\u001b[49m\n",
      "File \u001b[0;32m/opt/conda/lib/python3.10/site-packages/torch/nn/functional.py:3053\u001b[0m, in \u001b[0;36mcross_entropy\u001b[0;34m(input, target, weight, size_average, ignore_index, reduce, reduction, label_smoothing)\u001b[0m\n\u001b[1;32m   3051\u001b[0m \u001b[38;5;28;01mif\u001b[39;00m size_average \u001b[38;5;129;01mis\u001b[39;00m \u001b[38;5;129;01mnot\u001b[39;00m \u001b[38;5;28;01mNone\u001b[39;00m \u001b[38;5;129;01mor\u001b[39;00m reduce \u001b[38;5;129;01mis\u001b[39;00m \u001b[38;5;129;01mnot\u001b[39;00m \u001b[38;5;28;01mNone\u001b[39;00m:\n\u001b[1;32m   3052\u001b[0m     reduction \u001b[38;5;241m=\u001b[39m _Reduction\u001b[38;5;241m.\u001b[39mlegacy_get_string(size_average, reduce)\n\u001b[0;32m-> 3053\u001b[0m \u001b[38;5;28;01mreturn\u001b[39;00m \u001b[43mtorch\u001b[49m\u001b[38;5;241;43m.\u001b[39;49m\u001b[43m_C\u001b[49m\u001b[38;5;241;43m.\u001b[39;49m\u001b[43m_nn\u001b[49m\u001b[38;5;241;43m.\u001b[39;49m\u001b[43mcross_entropy_loss\u001b[49m\u001b[43m(\u001b[49m\u001b[38;5;28;43minput\u001b[39;49m\u001b[43m,\u001b[49m\u001b[43m \u001b[49m\u001b[43mtarget\u001b[49m\u001b[43m,\u001b[49m\u001b[43m \u001b[49m\u001b[43mweight\u001b[49m\u001b[43m,\u001b[49m\u001b[43m \u001b[49m\u001b[43m_Reduction\u001b[49m\u001b[38;5;241;43m.\u001b[39;49m\u001b[43mget_enum\u001b[49m\u001b[43m(\u001b[49m\u001b[43mreduction\u001b[49m\u001b[43m)\u001b[49m\u001b[43m,\u001b[49m\u001b[43m \u001b[49m\u001b[43mignore_index\u001b[49m\u001b[43m,\u001b[49m\u001b[43m \u001b[49m\u001b[43mlabel_smoothing\u001b[49m\u001b[43m)\u001b[49m\n",
      "\u001b[0;31mTypeError\u001b[0m: cross_entropy_loss(): argument 'target' (position 2) must be Tensor, not tuple"
     ]
    }
   ],
   "source": [
    "class VGG19(nn.Module):\n",
    "    def __init__(self, num_classes=2):\n",
    "        super(VGG19, self).__init__()\n",
    "        self.features = self._make_layers([\n",
    "            64, 64, 'M', \n",
    "            128, 128, 'M', \n",
    "            256, 256, 256, 256, 'M', \n",
    "            512, 512, 512, 512, 'M', \n",
    "            512, 512, 512, 512, 'M'\n",
    "        ])\n",
    "        self.classifier = nn.Sequential(\n",
    "            nn.Linear(8192, 4096),  # Adjusted to match the actual size\n",
    "            nn.ReLU(True),\n",
    "            nn.Dropout(),\n",
    "            nn.Linear(4096, 4096),\n",
    "            nn.ReLU(True),\n",
    "            nn.Dropout(),\n",
    "            nn.Linear(4096, num_classes),\n",
    "        )\n",
    "\n",
    "    def forward(self, x):\n",
    "        x = self.features(x)\n",
    "        x = x.view(x.size(0), -1)\n",
    "        x = self.classifier(x)\n",
    "        return x\n",
    "\n",
    "    def _make_layers(self, cfg):\n",
    "        layers = []\n",
    "        in_channels = 1  # Change to 3 if your images are RGB\n",
    "        for v in cfg:\n",
    "            if v == 'M':\n",
    "                layers += [nn.MaxPool2d(kernel_size=2, stride=2)]\n",
    "            else:\n",
    "                conv2d = nn.Conv2d(in_channels, v, kernel_size=3, padding=1)\n",
    "                layers += [conv2d, nn.ReLU(inplace=True)]\n",
    "                in_channels = v\n",
    "        return nn.Sequential(*layers)\n",
    "\n",
    "# Initialize the model, loss function, and optimizer\n",
    "model = VGG19(num_classes=2)  # For binary classification\n",
    "criterion = nn.CrossEntropyLoss()\n",
    "optimizer = optim.Adam(model.parameters(), lr=0.001)\n",
    "\n",
    "# Assuming 'train_loader' and 'test_loader' are defined as in your simple CNN example\n",
    "\n",
    "# Training Loop\n",
    "num_epochs = 50\n",
    "for epoch in range(num_epochs):\n",
    "    model.train()\n",
    "    running_loss = 0.0\n",
    "    for images, labels in train_loader:\n",
    "        optimizer.zero_grad()\n",
    "        outputs = model(images)\n",
    "        loss = criterion(outputs, labels)\n",
    "        loss.backward()\n",
    "        optimizer.step()\n",
    "        running_loss += loss.item()\n",
    "    print(f'Epoch {epoch+1}, Loss: {running_loss/len(train_loader)}')\n",
    "\n",
    "    # Validation Loop\n",
    "    model.eval()\n",
    "    total = 0\n",
    "    correct = 0\n",
    "    with torch.no_grad():\n",
    "        for images, labels in test_loader:\n",
    "            outputs = model(images)\n",
    "            _, predicted = torch.max(outputs.data, 1)\n",
    "            total += labels.size(0)\n",
    "            correct += (predicted == labels).sum().item()\n",
    "    print(f'Accuracy on validation set: {100 * correct / total}%')"
   ]
  }
 ],
 "metadata": {
  "kaggle": {
   "accelerator": "none",
   "dataSources": [
    {
     "datasetId": 5839,
     "sourceId": 18613,
     "sourceType": "datasetVersion"
    }
   ],
   "dockerImageVersionId": 30664,
   "isGpuEnabled": false,
   "isInternetEnabled": false,
   "language": "python",
   "sourceType": "notebook"
  },
  "kernelspec": {
   "display_name": "Python 3 (ipykernel)",
   "language": "python",
   "name": "python3"
  },
  "language_info": {
   "codemirror_mode": {
    "name": "ipython",
    "version": 3
   },
   "file_extension": ".py",
   "mimetype": "text/x-python",
   "name": "python",
   "nbconvert_exporter": "python",
   "pygments_lexer": "ipython3",
   "version": "3.9.7"
  },
  "papermill": {
   "default_parameters": {},
   "duration": 24478.9789,
   "end_time": "2024-03-15T18:08:06.282092",
   "environment_variables": {},
   "exception": true,
   "input_path": "__notebook__.ipynb",
   "output_path": "__notebook__.ipynb",
   "parameters": {},
   "start_time": "2024-03-15T11:20:07.303192",
   "version": "2.5.0"
  }
 },
 "nbformat": 4,
 "nbformat_minor": 5
}
